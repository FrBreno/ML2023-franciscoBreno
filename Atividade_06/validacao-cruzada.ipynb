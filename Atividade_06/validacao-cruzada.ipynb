{
 "cells": [
  {
   "attachments": {},
   "cell_type": "markdown",
   "metadata": {},
   "source": [
    "# Validação Cruzada\n",
    "\n",
    "## Descrição\n",
    "\n",
    "Use os dados do [Breast Cancer Dataset](https://archive.ics.uci.edu/ml/datasets/Breast+Cancer+Coimbra) UCI Machine Learning Repository.  \n",
    "\n",
    "Discuta se é preciso normalizar os dados ou não. Se for preciso, faça a normalizaçao.  \n",
    " \n",
    "Você vai verificar qual dentre os algoritmos abaixo é o melhor para classificar os dados. Utilize 20% dos dados para teste estratificando pela classe.\n",
    "\n",
    "- Decision Tree  (criterion{“gini”, “entropy”, “log_loss”}, max_depth de 10 a 100 em multiplos de 10)\n",
    "- K vizinhos (K = 1,3,5,11,21,31)  \n",
    "\n",
    "Verifique que algoritmo tem a melhor acuracia media. Vamos usar o desenho experimental discutido em classe, de um k-fold para medir a acuracia media e um k-fold interno para escolher os hiperparâmetros (para cada conjunto de folds de treino). O algoritmo experimental esta descrito abaixo. Use 5-fold tanto para a avaliacao externa (para calcular a acuracia media) quanto para o loop interno (para escolher os hiperparametros).  \n",
    "\n",
    "Obtenha o melhor conjunto de hiperparametros, retreine o modelo usando todos os dados de treino e avalie o desempenho com os dados de teste."
   ]
  },
  {
   "attachments": {},
   "cell_type": "markdown",
   "metadata": {},
   "source": [
    "## Preparando os dados"
   ]
  },
  {
   "cell_type": "code",
   "execution_count": 1,
   "metadata": {},
   "outputs": [],
   "source": [
    "import pandas as pd\n",
    "from sklearn.model_selection import train_test_split\n",
    "from sklearn.preprocessing import StandardScaler"
   ]
  },
  {
   "cell_type": "code",
   "execution_count": 19,
   "metadata": {},
   "outputs": [],
   "source": [
    "dados = pd.read_csv('dataR2.csv')\n",
    "\n",
    "dados\n",
    "\n",
    "X = dados.iloc[:, : -1]\n",
    "y = dados['Classification']\n",
    "\n",
    "X_train, X_test, y_train, y_test = train_test_split(X, y, test_size=0.2, stratify=y, random_state=42)\n",
    "\n",
    "normalizacao = StandardScaler()\n",
    "normalizacao.fit(X_train)\n",
    "\n",
    "X_train_std = pd.DataFrame(normalizacao.transform(X_train), columns=X_train.columns.tolist())\n",
    "X_test_std = pd.DataFrame(normalizacao.transform(X_test), columns=X_train.columns.tolist())"
   ]
  },
  {
   "attachments": {},
   "cell_type": "markdown",
   "metadata": {},
   "source": [
    "## Importações Gerais"
   ]
  },
  {
   "cell_type": "code",
   "execution_count": 87,
   "metadata": {},
   "outputs": [],
   "source": [
    "import numpy as np\n",
    "from sklearn.model_selection import KFold\n",
    "from sklearn.metrics import accuracy_score"
   ]
  },
  {
   "attachments": {},
   "cell_type": "markdown",
   "metadata": {},
   "source": [
    "## Decision Tree"
   ]
  },
  {
   "cell_type": "code",
   "execution_count": 47,
   "metadata": {},
   "outputs": [],
   "source": [
    "from sklearn.tree import DecisionTreeClassifier"
   ]
  },
  {
   "cell_type": "code",
   "execution_count": 67,
   "metadata": {},
   "outputs": [
    {
     "name": "stdout",
     "output_type": "stream",
     "text": [
      "Accuracy: 83.33%\n",
      "Criterion: entropy\n",
      "Max depth: 10\n"
     ]
    }
   ],
   "source": [
    "criterion = ['gini', 'entropy', 'log_loss']\n",
    "maxDepth = range(10, 101, 10)\n",
    "\n",
    "maxAcc = float('-inf')\n",
    "bestCrit= criterion[0]\n",
    "bestDepth = maxDepth[0]\n",
    "\n",
    "for cri in criterion:\n",
    "    for maxD in maxDepth:\n",
    "\n",
    "        clf = DecisionTreeClassifier(criterion=cri, max_depth=maxD, random_state=42)\n",
    "        kf = KFold(n_splits=5)\n",
    "\n",
    "        for f, (train_index, val_index) in enumerate(kf.split(X_train_std)):\n",
    "            clf.fit(X_train_std.iloc[train_index], y_train.iloc[train_index])\n",
    "            y_pred = clf.predict(X_train_std.iloc[val_index])\n",
    "            \n",
    "            acc = accuracy_score(y_train.iloc[val_index], y_pred)\n",
    "            \n",
    "            if maxAcc < acc:\n",
    "                maxAcc = acc\n",
    "                bestCrit = cri\n",
    "                bestDepth = maxD\n",
    "\n",
    "\n",
    "print(\"Accuracy: {0:.2f}%\".format(maxAcc * 100))\n",
    "print(f\"Criterion: {bestCrit}\")\n",
    "print(f\"Max depth: {bestDepth}\")\n"
   ]
  },
  {
   "cell_type": "code",
   "execution_count": 95,
   "metadata": {},
   "outputs": [
    {
     "name": "stdout",
     "output_type": "stream",
     "text": [
      "Average accuracy: 75.00%\n"
     ]
    }
   ],
   "source": [
    "clf = DecisionTreeClassifier(criterion=bestCrit, max_depth=bestDepth, random_state=42)\n",
    "clf.fit(X_train_std, y_train)\n",
    "\n",
    "kf = KFold(n_splits=5)\n",
    "\n",
    "acc = []\n",
    "\n",
    "for f, (_, test_index) in enumerate(kf.split(X_test_std)):\n",
    "    y_pred = clf.predict(X_test_std.iloc[test_index])\n",
    "    acc.append(accuracy_score(y_test.iloc[test_index], y_pred))\n",
    "    \n",
    "print(\"Average accuracy: {0:.2f}%\".format((sum(acc)/5) * 100))\n"
   ]
  },
  {
   "attachments": {},
   "cell_type": "markdown",
   "metadata": {},
   "source": [
    "## KNeighborsClassifier (KNN)"
   ]
  },
  {
   "cell_type": "code",
   "execution_count": 53,
   "metadata": {},
   "outputs": [],
   "source": [
    "from sklearn.neighbors import KNeighborsClassifier"
   ]
  },
  {
   "cell_type": "code",
   "execution_count": 84,
   "metadata": {},
   "outputs": [
    {
     "name": "stdout",
     "output_type": "stream",
     "text": [
      "Accuracy: 94.74%\n",
      "K: 3\n"
     ]
    }
   ],
   "source": [
    "kVizinhos = [1, 3, 5, 11, 21, 31]\n",
    "\n",
    "maxAcc = float('-inf')\n",
    "bestK = kVizinhos[0]\n",
    "\n",
    "for k in kVizinhos:\n",
    "\n",
    "    neigh = KNeighborsClassifier(n_neighbors=k)\n",
    "    kf = KFold(n_splits=5)\n",
    "\n",
    "    for f, (train_index, val_index) in enumerate(kf.split(X_train_std)):\n",
    "        neigh.fit(X_train_std.iloc[train_index], y_train.iloc[train_index])\n",
    "        y_pred = neigh.predict(X_train_std.iloc[val_index])\n",
    "        \n",
    "        acc = accuracy_score(y_train.iloc[val_index], y_pred)\n",
    "\n",
    "        if maxAcc < acc:\n",
    "            maxAcc = acc\n",
    "            bestK = k\n",
    "\n",
    "print(\"Accuracy: {0:.2f}%\".format(maxAcc * 100))\n",
    "print(f\"K: {bestK}\")"
   ]
  },
  {
   "cell_type": "code",
   "execution_count": 92,
   "metadata": {},
   "outputs": [
    {
     "name": "stdout",
     "output_type": "stream",
     "text": [
      "Average accuracy: 72.00%\n"
     ]
    }
   ],
   "source": [
    "neigh = KNeighborsClassifier(n_neighbors=bestK)\n",
    "neigh.fit(X_train_std, y_train)\n",
    "\n",
    "kf = KFold(n_splits=5)\n",
    "\n",
    "acc = []\n",
    "\n",
    "for f, (_, test_index) in enumerate(kf.split(X_test_std)):\n",
    "    y_pred = neigh.predict(X_test_std.iloc[test_index])\n",
    "    acc.append(accuracy_score(y_test.iloc[test_index], y_pred))\n",
    "    \n",
    "print(\"Average accuracy: {0:.2f}%\".format((sum(acc)/5) * 100))"
   ]
  },
  {
   "attachments": {},
   "cell_type": "markdown",
   "metadata": {},
   "source": [
    "## Comparação dos resultados\n",
    "\n",
    "|Modelo|Acurácia (melhores hiperparâmetros)|Hiperparâmetros|Acurácia média|\n",
    "|------|-----------------------------------|---------------|--------------|\n",
    "|Decision Tree|83.33%|Criterion: entropy; Max depth: 10|75%|\n",
    "|KNN|94.74%|K-vizinhos: 3|72%| \n"
   ]
  }
 ],
 "metadata": {
  "kernelspec": {
   "display_name": "Python 3",
   "language": "python",
   "name": "python3"
  },
  "language_info": {
   "codemirror_mode": {
    "name": "ipython",
    "version": 3
   },
   "file_extension": ".py",
   "mimetype": "text/x-python",
   "name": "python",
   "nbconvert_exporter": "python",
   "pygments_lexer": "ipython3",
   "version": "3.11.2"
  },
  "orig_nbformat": 4
 },
 "nbformat": 4,
 "nbformat_minor": 2
}

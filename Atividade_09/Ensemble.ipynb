{
 "cells": [
  {
   "attachments": {},
   "cell_type": "markdown",
   "metadata": {},
   "source": [
    "# Ensemble\n",
    "\n",
    "## Descrição do exercício\n",
    "1. Avalie o desempenho dos algoritmos Ensemble com DecisionTree, RandomForest e Ada Boosting para o dataset \"Wisconsin Diagnostic Breast Cancer (WDBC)\". Separe os dados em treino (80%) e teste (20%).\n",
    "1. Realize o escalonamento das features usando o StandardScaler.\n",
    "1. Use um valor constante para o parâmetro random_state e ajuste o modelo com as seguintes combinações de hiper-parâmetros para RandomForest e Ada Boosting.\n",
    "1. Utilize o método Grid-Search com 5-fold cross-validation para ajustar os hiper-parametros do modelo. Vrie os hiper parametros em: learning_rate: 0.1, 0.05, 0.01 ,0.5; n_estimators: 50, 100, 200; max_depth: 3, 5, 7\n",
    "1. Retreine o modelo com a melhor combinação de parametros usando o dataset de treino por completo e obtenha as métricas de acurácia, recall, F1-score e precision. Apresente o valor das médias e de cada classe individualmete. Discuta os resultados, avaliando o comportamento de cada modelo em função das métricas.\n",
    "1. Mostre a importância das features de acordo com o melhor modelo de classificação e o melhor modelo encontrado dentre os 3 usados nesta lista.\n"
   ]
  },
  {
   "attachments": {},
   "cell_type": "markdown",
   "metadata": {},
   "source": [
    "### Importações Gerais"
   ]
  },
  {
   "cell_type": "code",
   "execution_count": 81,
   "metadata": {},
   "outputs": [],
   "source": [
    "import pandas as pd\n",
    "from sklearn.model_selection import train_test_split, GridSearchCV\n",
    "from sklearn.metrics import confusion_matrix\n",
    "from sklearn.preprocessing import StandardScaler"
   ]
  },
  {
   "attachments": {},
   "cell_type": "markdown",
   "metadata": {},
   "source": [
    "### Tratando os dados"
   ]
  },
  {
   "cell_type": "code",
   "execution_count": 63,
   "metadata": {},
   "outputs": [],
   "source": [
    "data = pd.read_csv('./data/data.csv')\n",
    "X = data.drop(columns=['diagnosis', 'Unnamed: 32'])\n",
    "y = data['diagnosis']\n",
    "X_train, X_test, y_train, y_test = train_test_split(X, y, test_size=0.2, random_state=42)"
   ]
  },
  {
   "cell_type": "code",
   "execution_count": 64,
   "metadata": {},
   "outputs": [
    {
     "name": "stdout",
     "output_type": "stream",
     "text": [
      "X shape: (569, 31) y shape: (569,)\n"
     ]
    }
   ],
   "source": [
    "print(f'X shape: {X.shape}', f'y shape: {y.shape}')"
   ]
  },
  {
   "cell_type": "code",
   "execution_count": 65,
   "metadata": {},
   "outputs": [],
   "source": [
    "normalizacao = StandardScaler()\n",
    "X_train_std = normalizacao.fit_transform(X_train)\n",
    "X_test_std = normalizacao.transform(X_test)"
   ]
  },
  {
   "attachments": {},
   "cell_type": "markdown",
   "metadata": {},
   "source": [
    "### Ajustando os hiper-parâmetros"
   ]
  },
  {
   "cell_type": "code",
   "execution_count": 66,
   "metadata": {},
   "outputs": [],
   "source": [
    "from sklearn.ensemble import RandomForestClassifier, AdaBoostClassifier"
   ]
  },
  {
   "cell_type": "code",
   "execution_count": 67,
   "metadata": {},
   "outputs": [
    {
     "name": "stdout",
     "output_type": "stream",
     "text": [
      "Best Params: {'max_depth': 7, 'n_estimators': 200, 'random_state': 42}\n",
      "Best Score:  95.6%\n"
     ]
    }
   ],
   "source": [
    "rfc = RandomForestClassifier()\n",
    "\n",
    "param_grid = {\n",
    "    \"n_estimators\": [50, 100, 200],\n",
    "    \"max_depth\": [3, 5, 7],\n",
    "    \"random_state\": [42]\n",
    "}\n",
    "\n",
    "best_rfc = GridSearchCV(rfc, param_grid, cv=5)\n",
    "best_rfc.fit(X_train_std, y_train)\n",
    "\n",
    "print(f'Best Params: {best_rfc.best_params_}')\n",
    "print(f'Best Score:  {round(best_rfc.best_score_ * 100, 2)}%')"
   ]
  },
  {
   "cell_type": "code",
   "execution_count": 68,
   "metadata": {},
   "outputs": [
    {
     "name": "stdout",
     "output_type": "stream",
     "text": [
      "Best Params: {'learning_rate': 0.5, 'n_estimators': 100, 'random_state': 42}\n",
      "Best Score:  96.7%\n"
     ]
    }
   ],
   "source": [
    "abc = AdaBoostClassifier()\n",
    "\n",
    "param_grid = {\n",
    "    \"learning_rate\": [0.1, 0.05, 0.01 ,0.5],\n",
    "    \"n_estimators\": [50, 100, 200],\n",
    "    \"random_state\": [42]\n",
    "}\n",
    "\n",
    "best_abc = GridSearchCV(abc, param_grid, cv=5)\n",
    "best_abc.fit(X_train_std, y_train)\n",
    "\n",
    "print(f'Best Params: {best_abc.best_params_}')\n",
    "print(f'Best Score:  {round(best_abc.best_score_ * 100, 2)}%')"
   ]
  },
  {
   "attachments": {},
   "cell_type": "markdown",
   "metadata": {},
   "source": [
    "### Retreinando os modelos e obtendo as métricas"
   ]
  },
  {
   "cell_type": "code",
   "execution_count": 79,
   "metadata": {},
   "outputs": [],
   "source": [
    "def calcularMetricas(tn, fp, fn, tp):\n",
    "    acc = (tp + tn) / (tp + fp + tn + fn)\n",
    "    prec = \n",
    "    rec = \n",
    "    f1 = \n",
    "    print(f'Acc: {acc}')\n",
    "    print(f'prec: {prec}')\n",
    "    print(f'rec: {rec}')\n",
    "    print(f'f1: {f1}')"
   ]
  },
  {
   "cell_type": "code",
   "execution_count": 77,
   "metadata": {},
   "outputs": [],
   "source": [
    "best_rfc.fit(X_train_std, y_train)\n",
    "y_pred_rfc = best_rfc.predict(X_test_std)\n",
    "best_abc.fit(X_train_std, y_train)\n",
    "y_pred_abc = best_abc.predict(X_test_std)"
   ]
  },
  {
   "cell_type": "code",
   "execution_count": 80,
   "metadata": {},
   "outputs": [
    {
     "ename": "ValueError",
     "evalue": "pos_label=1 is not a valid label. It should be one of ['B', 'M']",
     "output_type": "error",
     "traceback": [
      "\u001b[1;31m---------------------------------------------------------------------------\u001b[0m",
      "\u001b[1;31mValueError\u001b[0m                                Traceback (most recent call last)",
      "Cell \u001b[1;32mIn[80], line 1\u001b[0m\n\u001b[1;32m----> 1\u001b[0m calcularMetricas(y_test, y_pred_rfc)\n",
      "Cell \u001b[1;32mIn[79], line 4\u001b[0m, in \u001b[0;36mcalcularMetricas\u001b[1;34m(y_true, y_pred)\u001b[0m\n\u001b[0;32m      2\u001b[0m acc \u001b[39m=\u001b[39m accuracy_score(y_true, y_pred)\n\u001b[0;32m      3\u001b[0m \u001b[39m# prec = precision_score(y_true, y_pred)\u001b[39;00m\n\u001b[1;32m----> 4\u001b[0m rec \u001b[39m=\u001b[39m recall_score(y_true, y_pred)\n\u001b[0;32m      5\u001b[0m f1 \u001b[39m=\u001b[39m f1_score(y_true, y_pred)\n\u001b[0;32m      6\u001b[0m \u001b[39mprint\u001b[39m(\u001b[39mf\u001b[39m\u001b[39m'\u001b[39m\u001b[39mAcc: \u001b[39m\u001b[39m{\u001b[39;00macc\u001b[39m}\u001b[39;00m\u001b[39m'\u001b[39m)\n",
      "File \u001b[1;32m~\\AppData\\Roaming\\Python\\Python311\\site-packages\\sklearn\\metrics\\_classification.py:2098\u001b[0m, in \u001b[0;36mrecall_score\u001b[1;34m(y_true, y_pred, labels, pos_label, average, sample_weight, zero_division)\u001b[0m\n\u001b[0;32m   1967\u001b[0m \u001b[39mdef\u001b[39;00m \u001b[39mrecall_score\u001b[39m(\n\u001b[0;32m   1968\u001b[0m     y_true,\n\u001b[0;32m   1969\u001b[0m     y_pred,\n\u001b[1;32m   (...)\u001b[0m\n\u001b[0;32m   1975\u001b[0m     zero_division\u001b[39m=\u001b[39m\u001b[39m\"\u001b[39m\u001b[39mwarn\u001b[39m\u001b[39m\"\u001b[39m,\n\u001b[0;32m   1976\u001b[0m ):\n\u001b[0;32m   1977\u001b[0m \u001b[39m    \u001b[39m\u001b[39m\"\"\"Compute the recall.\u001b[39;00m\n\u001b[0;32m   1978\u001b[0m \n\u001b[0;32m   1979\u001b[0m \u001b[39m    The recall is the ratio ``tp / (tp + fn)`` where ``tp`` is the number of\u001b[39;00m\n\u001b[1;32m   (...)\u001b[0m\n\u001b[0;32m   2096\u001b[0m \u001b[39m    array([1. , 1. , 0.5])\u001b[39;00m\n\u001b[0;32m   2097\u001b[0m \u001b[39m    \"\"\"\u001b[39;00m\n\u001b[1;32m-> 2098\u001b[0m     _, r, _, _ \u001b[39m=\u001b[39m precision_recall_fscore_support(\n\u001b[0;32m   2099\u001b[0m         y_true,\n\u001b[0;32m   2100\u001b[0m         y_pred,\n\u001b[0;32m   2101\u001b[0m         labels\u001b[39m=\u001b[39;49mlabels,\n\u001b[0;32m   2102\u001b[0m         pos_label\u001b[39m=\u001b[39;49mpos_label,\n\u001b[0;32m   2103\u001b[0m         average\u001b[39m=\u001b[39;49maverage,\n\u001b[0;32m   2104\u001b[0m         warn_for\u001b[39m=\u001b[39;49m(\u001b[39m\"\u001b[39;49m\u001b[39mrecall\u001b[39;49m\u001b[39m\"\u001b[39;49m,),\n\u001b[0;32m   2105\u001b[0m         sample_weight\u001b[39m=\u001b[39;49msample_weight,\n\u001b[0;32m   2106\u001b[0m         zero_division\u001b[39m=\u001b[39;49mzero_division,\n\u001b[0;32m   2107\u001b[0m     )\n\u001b[0;32m   2108\u001b[0m     \u001b[39mreturn\u001b[39;00m r\n",
      "File \u001b[1;32m~\\AppData\\Roaming\\Python\\Python311\\site-packages\\sklearn\\metrics\\_classification.py:1573\u001b[0m, in \u001b[0;36mprecision_recall_fscore_support\u001b[1;34m(y_true, y_pred, beta, labels, pos_label, average, warn_for, sample_weight, zero_division)\u001b[0m\n\u001b[0;32m   1571\u001b[0m \u001b[39mif\u001b[39;00m beta \u001b[39m<\u001b[39m \u001b[39m0\u001b[39m:\n\u001b[0;32m   1572\u001b[0m     \u001b[39mraise\u001b[39;00m \u001b[39mValueError\u001b[39;00m(\u001b[39m\"\u001b[39m\u001b[39mbeta should be >=0 in the F-beta score\u001b[39m\u001b[39m\"\u001b[39m)\n\u001b[1;32m-> 1573\u001b[0m labels \u001b[39m=\u001b[39m _check_set_wise_labels(y_true, y_pred, average, labels, pos_label)\n\u001b[0;32m   1575\u001b[0m \u001b[39m# Calculate tp_sum, pred_sum, true_sum ###\u001b[39;00m\n\u001b[0;32m   1576\u001b[0m samplewise \u001b[39m=\u001b[39m average \u001b[39m==\u001b[39m \u001b[39m\"\u001b[39m\u001b[39msamples\u001b[39m\u001b[39m\"\u001b[39m\n",
      "File \u001b[1;32m~\\AppData\\Roaming\\Python\\Python311\\site-packages\\sklearn\\metrics\\_classification.py:1382\u001b[0m, in \u001b[0;36m_check_set_wise_labels\u001b[1;34m(y_true, y_pred, average, labels, pos_label)\u001b[0m\n\u001b[0;32m   1380\u001b[0m     \u001b[39mif\u001b[39;00m pos_label \u001b[39mnot\u001b[39;00m \u001b[39min\u001b[39;00m present_labels:\n\u001b[0;32m   1381\u001b[0m         \u001b[39mif\u001b[39;00m \u001b[39mlen\u001b[39m(present_labels) \u001b[39m>\u001b[39m\u001b[39m=\u001b[39m \u001b[39m2\u001b[39m:\n\u001b[1;32m-> 1382\u001b[0m             \u001b[39mraise\u001b[39;00m \u001b[39mValueError\u001b[39;00m(\n\u001b[0;32m   1383\u001b[0m                 \u001b[39mf\u001b[39m\u001b[39m\"\u001b[39m\u001b[39mpos_label=\u001b[39m\u001b[39m{\u001b[39;00mpos_label\u001b[39m}\u001b[39;00m\u001b[39m is not a valid label. It \u001b[39m\u001b[39m\"\u001b[39m\n\u001b[0;32m   1384\u001b[0m                 \u001b[39mf\u001b[39m\u001b[39m\"\u001b[39m\u001b[39mshould be one of \u001b[39m\u001b[39m{\u001b[39;00mpresent_labels\u001b[39m}\u001b[39;00m\u001b[39m\"\u001b[39m\n\u001b[0;32m   1385\u001b[0m             )\n\u001b[0;32m   1386\u001b[0m     labels \u001b[39m=\u001b[39m [pos_label]\n\u001b[0;32m   1387\u001b[0m \u001b[39melse\u001b[39;00m:\n",
      "\u001b[1;31mValueError\u001b[0m: pos_label=1 is not a valid label. It should be one of ['B', 'M']"
     ]
    }
   ],
   "source": [
    "tn, fp, fn, tp = confusion_matrix([0, 1, 0, 1], [1, 1, 1, 0]).ravel()"
   ]
  },
  {
   "cell_type": "code",
   "execution_count": null,
   "metadata": {},
   "outputs": [],
   "source": [
    "calcularMetricas(y_test, y_pred_abc)"
   ]
  },
  {
   "attachments": {},
   "cell_type": "markdown",
   "metadata": {},
   "source": [
    "### Conclusão"
   ]
  }
 ],
 "metadata": {
  "kernelspec": {
   "display_name": "Python 3",
   "language": "python",
   "name": "python3"
  },
  "language_info": {
   "codemirror_mode": {
    "name": "ipython",
    "version": 3
   },
   "file_extension": ".py",
   "mimetype": "text/x-python",
   "name": "python",
   "nbconvert_exporter": "python",
   "pygments_lexer": "ipython3",
   "version": "3.11.3"
  },
  "orig_nbformat": 4
 },
 "nbformat": 4,
 "nbformat_minor": 2
}

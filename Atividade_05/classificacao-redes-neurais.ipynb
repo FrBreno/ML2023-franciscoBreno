{
 "cells": [
  {
   "attachments": {},
   "cell_type": "markdown",
   "metadata": {},
   "source": [
    "# Classificação Redes Neurais - Wisconsin Diagnostic Breast Cancer\n",
    "\n",
    "## Descrição da atividade\n",
    "\n",
    "- Nesta lista vamos fazer a predição para saber se um tumor de mama é benigno ou maligno a partir do dataset \"Wisconsin Diagnostic Breast Cancer (WDBC)\".\n",
    "- Será utilizado 70% dos dados para treino e outros 30% para teste.\n",
    "- Vamos criar modelos de aprendizado de máquina usando os seguintes algoritmos:\n",
    "  - Perceptron\n",
    "  - Adaline com Gradiente Descendente\n",
    "  - Adaline com Gradiente Descentente Estocástico\n",
    "  - Adaline com Gradiente Descendente Estocástico usando mini-batches de 20 elementos (mesmo do item anterior, mas agora com mini-batch).\n",
    "- Os resultados obtidos entre os algoritmos acima usando a métrica acurácia serão comparados no final desta atividade."
   ]
  },
  {
   "attachments": {},
   "cell_type": "markdown",
   "metadata": {},
   "source": [
    "## Ajustando os dados"
   ]
  },
  {
   "cell_type": "code",
   "execution_count": 285,
   "metadata": {},
   "outputs": [],
   "source": [
    "from sklearn.datasets import load_breast_cancer\n",
    "from sklearn.model_selection import train_test_split\n",
    "from sklearn.preprocessing import StandardScaler"
   ]
  },
  {
   "cell_type": "code",
   "execution_count": 286,
   "metadata": {},
   "outputs": [],
   "source": [
    "data = load_breast_cancer()\n",
    "X = data.data\n",
    "y = data.target\n",
    "\n",
    "# Dividindo os dados:\n",
    "X_train, X_test, y_train, y_test = train_test_split(X, y, test_size=0.3, stratify=y)\n",
    "\n",
    "# Normalizando os dados:\n",
    "normalizacao = StandardScaler()\n",
    "normalizacao.fit(X_train)\n",
    "\n",
    "X_train_std = normalizacao.transform(X_train)\n",
    "X_test_std = normalizacao.transform(X_test)"
   ]
  },
  {
   "attachments": {},
   "cell_type": "markdown",
   "metadata": {},
   "source": [
    "## Importações Gerais"
   ]
  },
  {
   "cell_type": "code",
   "execution_count": 287,
   "metadata": {},
   "outputs": [],
   "source": [
    "from sklearn.metrics import accuracy_score\n",
    "import numpy as np"
   ]
  },
  {
   "attachments": {},
   "cell_type": "markdown",
   "metadata": {},
   "source": [
    "## Perceptron"
   ]
  },
  {
   "cell_type": "code",
   "execution_count": 288,
   "metadata": {},
   "outputs": [],
   "source": [
    "from sklearn.linear_model import Perceptron"
   ]
  },
  {
   "cell_type": "code",
   "execution_count": 370,
   "metadata": {},
   "outputs": [
    {
     "name": "stdout",
     "output_type": "stream",
     "text": [
      "Accuracy: 97.08%\n"
     ]
    }
   ],
   "source": [
    "perc = Perceptron(random_state=5)\n",
    "\n",
    "perc.fit(X_train_std, y_train)\n",
    "y_pred = perc.predict(X_test_std)\n",
    "\n",
    "print(\"Accuracy: {0:.2f}%\".format((accuracy_score(y_test, y_pred)) * 100))"
   ]
  },
  {
   "attachments": {},
   "cell_type": "markdown",
   "metadata": {},
   "source": [
    "## Adaline com Gradiente Descendente"
   ]
  },
  {
   "cell_type": "code",
   "execution_count": 344,
   "metadata": {},
   "outputs": [],
   "source": [
    "class Adaline(object):\n",
    "    def __init__(self, eta = 0.001, epoch = 100):\n",
    "        self.eta = eta\n",
    "        self.epoch = epoch\n",
    "\n",
    "    def fit(self, X, y):\n",
    "        np.random.seed(16)\n",
    "        self.weight_ = np.random.uniform(-1, 1, X.shape[1] + 1)\n",
    "        self.error_ = []\n",
    "        \n",
    "        cost = 0\n",
    "        for _ in range(self.epoch):\n",
    "            \n",
    "            output = self.activation_function(X)\n",
    "            error = y - output\n",
    "            \n",
    "            self.weight_[0] += self.eta * sum(error)\n",
    "            self.weight_[1:] += self.eta * X.T.dot(error)\n",
    "            \n",
    "            cost = 1./2 * sum((error**2))\n",
    "            self.error_.append(cost)\n",
    "            \n",
    "        return self\n",
    "\n",
    "    def net_input(self, X):\n",
    "        \"\"\"Calculo da entrada z\"\"\"\n",
    "        return np.dot(X, self.weight_[1:]) + self.weight_[0]\n",
    "    def activation_function(self, X):\n",
    "        \"\"\"Calculo da saida da funcao g(z)\"\"\"\n",
    "        return self.net_input(X)\n",
    "    def predict(self, X):\n",
    "        \"\"\"Retornar valores binaros 0 ou 1\"\"\"\n",
    "        return np.where(self.activation_function(X) >= 0.0, 1, -1)"
   ]
  },
  {
   "cell_type": "code",
   "execution_count": 345,
   "metadata": {},
   "outputs": [
    {
     "name": "stdout",
     "output_type": "stream",
     "text": [
      "Accuracy: 59.06%\n"
     ]
    }
   ],
   "source": [
    "adGD = Adaline()\n",
    "\n",
    "adGD.fit(X_train_std, y_train)\n",
    "y_pred = adGD.predict(X_test_std)\n",
    "\n",
    "print(\"Accuracy: {0:.2f}%\".format((accuracy_score(y_test, y_pred)) * 100))"
   ]
  },
  {
   "attachments": {},
   "cell_type": "markdown",
   "metadata": {},
   "source": [
    "## Adaline com Gradiente Descentente Estocástico"
   ]
  },
  {
   "cell_type": "code",
   "execution_count": 292,
   "metadata": {},
   "outputs": [],
   "source": [
    "from sklearn.linear_model import SGDClassifier"
   ]
  },
  {
   "cell_type": "code",
   "execution_count": 371,
   "metadata": {},
   "outputs": [
    {
     "name": "stdout",
     "output_type": "stream",
     "text": [
      "Accuracy: 98.25%\n"
     ]
    }
   ],
   "source": [
    "adSGD = SGDClassifier(random_state=7)\n",
    "\n",
    "adSGD.fit(X_train_std, y_train)\n",
    "y_pred = adSGD.predict(X_test_std)\n",
    "\n",
    "print(\"Accuracy: {0:.2f}%\".format((accuracy_score(y_test, y_pred)) * 100))"
   ]
  },
  {
   "attachments": {},
   "cell_type": "markdown",
   "metadata": {},
   "source": [
    "## Adaline com Gradiente Descendente Estocástico (mini-batches de 20 elementos)"
   ]
  },
  {
   "cell_type": "code",
   "execution_count": 380,
   "metadata": {},
   "outputs": [
    {
     "name": "stdout",
     "output_type": "stream",
     "text": [
      "Accuracy: 97.08%\n"
     ]
    }
   ],
   "source": [
    "adSGD = SGDClassifier(random_state=7)\n",
    "\n",
    "for i in range(0, len(X_train_std), 20):\n",
    "    X_batch = X_train_std[i:i + 20]\n",
    "    y_batch = y_train[i:i + 20]\n",
    "    adSGD.partial_fit(X_batch, y_batch, classes=np.unique(y_train))\n",
    "\n",
    "y_pred = adSGD.predict(X_test_std)\n",
    "\n",
    "print(\"Accuracy: {0:.2f}%\".format((accuracy_score(y_test, y_pred)) * 100))"
   ]
  },
  {
   "attachments": {},
   "cell_type": "markdown",
   "metadata": {},
   "source": [
    "## Resultados obtidos\n",
    "\n",
    "|Algoritmos|Acurácia|\n",
    "|----------|--------|\n",
    "|Perceptron|97.08%|\n",
    "|Adaline com Gradiente Descendente|59.06%|\n",
    "|Adaline com Gradiente Descentente Estocástico|98.25%|\n",
    "|Adaline com Gradiente Descendente Estocástico (mini-batches de 20 elementos)|97.08%|"
   ]
  }
 ],
 "metadata": {
  "kernelspec": {
   "display_name": "Python 3",
   "language": "python",
   "name": "python3"
  },
  "language_info": {
   "codemirror_mode": {
    "name": "ipython",
    "version": 3
   },
   "file_extension": ".py",
   "mimetype": "text/x-python",
   "name": "python",
   "nbconvert_exporter": "python",
   "pygments_lexer": "ipython3",
   "version": "3.11.2"
  },
  "orig_nbformat": 4
 },
 "nbformat": 4,
 "nbformat_minor": 2
}
